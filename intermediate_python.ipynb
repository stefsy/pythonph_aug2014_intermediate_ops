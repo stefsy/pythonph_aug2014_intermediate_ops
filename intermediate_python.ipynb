{
 "metadata": {
  "name": ""
 },
 "nbformat": 3,
 "nbformat_minor": 0,
 "worksheets": [
  {
   "cells": [
    {
     "cell_type": "markdown",
     "metadata": {},
     "source": [
      "# Project Euler Workshop / Intermediate Python Operations\n",
      "    # PythonPH August 2014"
     ]
    },
    {
     "cell_type": "heading",
     "level": 3,
     "metadata": {},
     "source": [
      "Fork this iPython notebook via [GitHub](https://github.com/stefsy/pythonph_aug2014_intermediate_ops.git). Follow [@stefsy](www.twitter.com/stefsy) on Twitter and I'll answer any questions I can."
     ]
    },
    {
     "cell_type": "markdown",
     "metadata": {},
     "source": [
      "##Topics\n",
      "\n",
      "* array slicing \n",
      "* list comprehension \n",
      "* enumerate \n",
      "* itertools library\n",
      "    * permutations\n",
      "    * combinations\n",
      "* set operations"
     ]
    },
    {
     "cell_type": "markdown",
     "metadata": {},
     "source": [
      "## Array Slicing"
     ]
    },
    {
     "cell_type": "code",
     "collapsed": false,
     "input": [
      "array = [0,1,2,3,4,5,6,7,8,9,10]\n",
      "\n",
      "# accessing elements by index value\n",
      "print array[0] \n",
      "print array[1] "
     ],
     "language": "python",
     "metadata": {},
     "outputs": [
      {
       "output_type": "stream",
       "stream": "stdout",
       "text": [
        "0\n",
        "1\n"
       ]
      }
     ],
     "prompt_number": 24
    },
    {
     "cell_type": "code",
     "collapsed": false,
     "input": [
      "# What's the value of len(array) ? \n",
      "print len(array)"
     ],
     "language": "python",
     "metadata": {},
     "outputs": [
      {
       "output_type": "stream",
       "stream": "stdout",
       "text": [
        "11\n"
       ]
      }
     ],
     "prompt_number": 25
    },
    {
     "cell_type": "code",
     "collapsed": false,
     "input": [
      "# also works for strings\n",
      "also_a = \"Ninoy Aquino\"\n",
      "\n",
      "print also_a[0]\n",
      "print also_a[4]"
     ],
     "language": "python",
     "metadata": {},
     "outputs": [
      {
       "output_type": "stream",
       "stream": "stdout",
       "text": [
        "N\n",
        "y\n"
       ]
      }
     ],
     "prompt_number": 26
    },
    {
     "cell_type": "code",
     "collapsed": false,
     "input": [
      "# array slicing \n",
      "# array[ <start index> : <end index>]\n",
      "\n",
      "print array[1:5]\n",
      "print array[2:10]\n"
     ],
     "language": "python",
     "metadata": {},
     "outputs": [
      {
       "output_type": "stream",
       "stream": "stdout",
       "text": [
        "[1, 2, 3, 4]\n",
        "[2, 3, 4, 5, 6, 7, 8, 9]\n"
       ]
      }
     ],
     "prompt_number": 27
    },
    {
     "cell_type": "code",
     "collapsed": false,
     "input": [
      "# negative values acceptable\n",
      "\n",
      "print array[0:-1]"
     ],
     "language": "python",
     "metadata": {},
     "outputs": [
      {
       "output_type": "stream",
       "stream": "stdout",
       "text": [
        "[0, 1, 2, 3, 4, 5, 6, 7, 8, 9]\n"
       ]
      }
     ],
     "prompt_number": 28
    },
    {
     "cell_type": "code",
     "collapsed": false,
     "input": [
      "# empty start & end values have a meaning\n",
      "\n",
      "print array[4:]\n",
      "print array[:2]"
     ],
     "language": "python",
     "metadata": {},
     "outputs": [
      {
       "output_type": "stream",
       "stream": "stdout",
       "text": [
        "[4, 5, 6, 7, 8, 9, 10]\n",
        "[0, 1]\n"
       ]
      }
     ],
     "prompt_number": 29
    },
    {
     "cell_type": "code",
     "collapsed": false,
     "input": [
      "# What would this do? \n",
      "\n",
      "print array[:]"
     ],
     "language": "python",
     "metadata": {},
     "outputs": [
      {
       "output_type": "stream",
       "stream": "stdout",
       "text": [
        "[0, 1, 2, 3, 4, 5, 6, 7, 8, 9, 10]\n"
       ]
      }
     ],
     "prompt_number": 30
    },
    {
     "cell_type": "code",
     "collapsed": false,
     "input": [
      "# array slicing part 2\n",
      "# array[<start>:<end>:<step>]\n",
      "\n",
      "print array[::1]\n",
      "print array[::2]"
     ],
     "language": "python",
     "metadata": {},
     "outputs": [
      {
       "output_type": "stream",
       "stream": "stdout",
       "text": [
        "[0, 1, 2, 3, 4, 5, 6, 7, 8, 9, 10]\n",
        "[0, 2, 4, 6, 8, 10]\n"
       ]
      }
     ],
     "prompt_number": 31
    },
    {
     "cell_type": "code",
     "collapsed": false,
     "input": [
      "# What does this do? \n",
      "\n",
      "print array[::-1]"
     ],
     "language": "python",
     "metadata": {},
     "outputs": [
      {
       "output_type": "stream",
       "stream": "stdout",
       "text": [
        "[10, 9, 8, 7, 6, 5, 4, 3, 2, 1, 0]\n"
       ]
      }
     ],
     "prompt_number": 32
    },
    {
     "cell_type": "code",
     "collapsed": false,
     "input": [
      "# RECAP\n",
      "# array[<start>:<end>:<step>]\n",
      "\n",
      "# gets the first half of the array \n",
      "print array[:len(array)/2] \n",
      "\n",
      "# quickly reverses the array \n",
      "print also_a[::-1] "
     ],
     "language": "python",
     "metadata": {},
     "outputs": [
      {
       "output_type": "stream",
       "stream": "stdout",
       "text": [
        "[0, 1, 2, 3, 4]\n",
        "oniuqA yoniN\n"
       ]
      }
     ],
     "prompt_number": 33
    },
    {
     "cell_type": "code",
     "collapsed": false,
     "input": [
      "# watch out for this gotcha\n",
      "# instead of printing out reverse of the first 3 chars, \n",
      "# python reverses first, then prints from last character to character at index 3\n",
      "\n",
      "print also_a[:3:-1]"
     ],
     "language": "python",
     "metadata": {},
     "outputs": [
      {
       "output_type": "stream",
       "stream": "stdout",
       "text": [
        "oniuqA y\n"
       ]
      }
     ],
     "prompt_number": 34
    },
    {
     "cell_type": "code",
     "collapsed": false,
     "input": [
      "# if you want to print out reverse of first 3 chars, do this instead\n",
      "\n",
      "print also_a[:3][::-1]"
     ],
     "language": "python",
     "metadata": {},
     "outputs": [
      {
       "output_type": "stream",
       "stream": "stdout",
       "text": [
        "niN\n"
       ]
      }
     ],
     "prompt_number": 35
    },
    {
     "cell_type": "markdown",
     "metadata": {},
     "source": [
      "## List comprehension"
     ]
    },
    {
     "cell_type": "markdown",
     "metadata": {},
     "source": [
      "elegant way of constructing lists w/o for loops"
     ]
    },
    {
     "cell_type": "code",
     "collapsed": false,
     "input": [
      "x = []\n",
      "for i in range(0,10):\n",
      "    x.append(i+5)\n",
      "\n",
      "y = [i+5 for i in range(0,10)]\n",
      "\n",
      "print x == y "
     ],
     "language": "python",
     "metadata": {},
     "outputs": [
      {
       "output_type": "stream",
       "stream": "stdout",
       "text": [
        "True\n"
       ]
      }
     ],
     "prompt_number": 36
    },
    {
     "cell_type": "markdown",
     "metadata": {},
     "source": [
      "Never write a nested for loop again!"
     ]
    },
    {
     "cell_type": "code",
     "collapsed": false,
     "input": [
      "nest = []\n",
      "for m in range(5,10):\n",
      "    for n in range(1,8):\n",
      "        nest.append(m*n**2)\n",
      "        \n",
      "comp = [m*n**2 for m in range(5,10) for n in range(1,8)]\n",
      "\n",
      "print nest == comp"
     ],
     "language": "python",
     "metadata": {},
     "outputs": [
      {
       "output_type": "stream",
       "stream": "stdout",
       "text": [
        "True\n"
       ]
      }
     ],
     "prompt_number": 37
    },
    {
     "cell_type": "code",
     "collapsed": false,
     "input": [
      "# works with if statements too\n",
      "comp = [(m,n) for m in range(1,5) for n in range(1,10) if m%2 == 0 and n%3 ==0 ]\n",
      "\n",
      "print comp"
     ],
     "language": "python",
     "metadata": {},
     "outputs": [
      {
       "output_type": "stream",
       "stream": "stdout",
       "text": [
        "[(2, 3), (2, 6), (2, 9), (4, 3), (4, 6), (4, 9)]\n"
       ]
      }
     ],
     "prompt_number": 38
    },
    {
     "cell_type": "markdown",
     "metadata": {},
     "source": [
      "## Enumerate"
     ]
    },
    {
     "cell_type": "code",
     "collapsed": false,
     "input": [
      "fruits = ['mango','banana','pineapple','guava','papaya']\n",
      "\n",
      "# not very pythonic approach\n",
      "for i in range(0,len(fruits)):\n",
      "    print i, fruits[i]"
     ],
     "language": "python",
     "metadata": {},
     "outputs": [
      {
       "output_type": "stream",
       "stream": "stdout",
       "text": [
        "0 mango\n",
        "1 banana\n",
        "2 pineapple\n",
        "3 guava\n",
        "4 papaya\n"
       ]
      }
     ],
     "prompt_number": 39
    },
    {
     "cell_type": "code",
     "collapsed": false,
     "input": [
      "# enumerate is a handy built in function that counts for you!\n",
      "for fruit in enumerate(fruits):\n",
      "    print fruit"
     ],
     "language": "python",
     "metadata": {},
     "outputs": [
      {
       "output_type": "stream",
       "stream": "stdout",
       "text": [
        "(0, 'mango')\n",
        "(1, 'banana')\n",
        "(2, 'pineapple')\n",
        "(3, 'guava')\n",
        "(4, 'papaya')\n"
       ]
      }
     ],
     "prompt_number": 40
    },
    {
     "cell_type": "code",
     "collapsed": false,
     "input": [
      "for i, fruit in enumerate(fruits):\n",
      "    print i, fruit"
     ],
     "language": "python",
     "metadata": {},
     "outputs": [
      {
       "output_type": "stream",
       "stream": "stdout",
       "text": [
        "0 mango\n",
        "1 banana\n",
        "2 pineapple\n",
        "3 guava\n",
        "4 papaya\n"
       ]
      }
     ],
     "prompt_number": 41
    },
    {
     "cell_type": "markdown",
     "metadata": {},
     "source": [
      "## Itertools : Combinations and Permutations"
     ]
    },
    {
     "cell_type": "markdown",
     "metadata": {},
     "source": [
      "Combinations -- how many way to select a subset of elements from a set\n",
      "\n",
      "Permutations -- how many ways to reorder a set of elements"
     ]
    },
    {
     "cell_type": "code",
     "collapsed": false,
     "input": [
      "import itertools \n",
      "\n",
      "\n",
      "# combinations(set,number in subset)\n",
      "for c in itertools.combinations([1,2,3,4,5], 2):\n",
      "    print c"
     ],
     "language": "python",
     "metadata": {},
     "outputs": [
      {
       "output_type": "stream",
       "stream": "stdout",
       "text": [
        "(1, 2)\n",
        "(1, 3)\n",
        "(1, 4)\n",
        "(1, 5)\n",
        "(2, 3)\n",
        "(2, 4)\n",
        "(2, 5)\n",
        "(3, 4)\n",
        "(3, 5)\n",
        "(4, 5)\n"
       ]
      }
     ],
     "prompt_number": 42
    },
    {
     "cell_type": "code",
     "collapsed": false,
     "input": [
      "# permutations(set) \n",
      "\n",
      "for word in itertools.permutations('ant'):\n",
      "    print \"\".join(word)"
     ],
     "language": "python",
     "metadata": {},
     "outputs": [
      {
       "output_type": "stream",
       "stream": "stdout",
       "text": [
        "ant\n",
        "atn\n",
        "nat\n",
        "nta\n",
        "tan\n",
        "tna\n"
       ]
      }
     ],
     "prompt_number": 43
    },
    {
     "cell_type": "markdown",
     "metadata": {},
     "source": [
      "## Sets"
     ]
    },
    {
     "cell_type": "markdown",
     "metadata": {},
     "source": [
      "A huge help for optimizing code performance. e.g. going over lists when checking to see if item x already exists.\n",
      "\n",
      "Checking to see if X in S takes O(n) time if S is a list, but O(1) time if S is a set. This is actually a problem when you're working with hundreds of thousands of numbers.  \n",
      "\n",
      "[More on time complexity](https://wiki.python.org/moin/TimeComplexity)\n",
      "\n",
      "A set is an _unordered_ collection of _unique_ elements. \n",
      "\n",
      "What does that mean?\n",
      "\n",
      "* unordered -- no indices, therefore array slicing won't work \n",
      "* unique -- nothing happens if you try to insert a duplicate value"
     ]
    },
    {
     "cell_type": "code",
     "collapsed": false,
     "input": [
      "# initialize a set like so\n",
      "s = set()"
     ],
     "language": "python",
     "metadata": {},
     "outputs": [],
     "prompt_number": 44
    },
    {
     "cell_type": "code",
     "collapsed": false,
     "input": [
      "for char in \"Philippines\":\n",
      "    s.add(char)\n",
      "    \n",
      "print s"
     ],
     "language": "python",
     "metadata": {},
     "outputs": [
      {
       "output_type": "stream",
       "stream": "stdout",
       "text": [
        "set(['e', 'p', 'i', 'h', 'l', 'n', 'P', 's'])\n"
       ]
      }
     ],
     "prompt_number": 45
    },
    {
     "cell_type": "code",
     "collapsed": false,
     "input": [
      "# useful for checking unique values in a list too!\n",
      "print len(\"Philippines\")\n",
      "print len(s)"
     ],
     "language": "python",
     "metadata": {},
     "outputs": [
      {
       "output_type": "stream",
       "stream": "stdout",
       "text": [
        "11\n",
        "8\n"
       ]
      }
     ],
     "prompt_number": 46
    },
    {
     "cell_type": "code",
     "collapsed": false,
     "input": [
      "# set operations are amazing. \n",
      "my_shows = set(['Modern Family', 'Veep', 'Hannibal', 'Fargo'])\n",
      "your_shows = set(['Modern Family','Revolution','The 100','Hannibal','True Blood','Teen Wolf'])"
     ],
     "language": "python",
     "metadata": {},
     "outputs": [],
     "prompt_number": 47
    },
    {
     "cell_type": "code",
     "collapsed": false,
     "input": [
      "# intersection \n",
      "print my_shows & your_shows"
     ],
     "language": "python",
     "metadata": {},
     "outputs": [
      {
       "output_type": "stream",
       "stream": "stdout",
       "text": [
        "set(['Hannibal', 'Modern Family'])\n"
       ]
      }
     ],
     "prompt_number": 48
    },
    {
     "cell_type": "code",
     "collapsed": false,
     "input": [
      "# union\n",
      "print my_shows | your_shows"
     ],
     "language": "python",
     "metadata": {},
     "outputs": [
      {
       "output_type": "stream",
       "stream": "stdout",
       "text": [
        "set(['Revolution', 'Veep', 'Teen Wolf', 'Modern Family', 'True Blood', 'The 100', 'Fargo', 'Hannibal'])\n"
       ]
      }
     ],
     "prompt_number": 49
    },
    {
     "cell_type": "code",
     "collapsed": false,
     "input": [
      "# in set a but not in set b \n",
      "print your_shows - my_shows"
     ],
     "language": "python",
     "metadata": {},
     "outputs": [
      {
       "output_type": "stream",
       "stream": "stdout",
       "text": [
        "set(['True Blood', 'Revolution', 'Teen Wolf', 'The 100'])\n"
       ]
      }
     ],
     "prompt_number": 50
    },
    {
     "cell_type": "markdown",
     "metadata": {},
     "source": [
      "## Project Euler\n",
      "These are all really handy tools for tackling [Project Euler](https://projecteuler.net/problems) problems! Break into teams, and start tackling these. The PythonPH folks will be floating around answering questions. "
     ]
    }
   ],
   "metadata": {}
  }
 ]
}